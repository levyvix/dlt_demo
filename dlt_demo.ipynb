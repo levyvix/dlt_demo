{
  "nbformat": 4,
  "nbformat_minor": 0,
  "metadata": {
    "colab": {
      "provenance": [],
      "include_colab_link": true
    },
    "kernelspec": {
      "name": "python3",
      "display_name": "Python 3"
    },
    "language_info": {
      "name": "python"
    }
  },
  "cells": [
    {
      "cell_type": "markdown",
      "metadata": {
        "id": "view-in-github",
        "colab_type": "text"
      },
      "source": [
        "<a href=\"https://colab.research.google.com/github/levyvix/dlt_demo/blob/main/dlt_demo.ipynb\" target=\"_parent\"><img src=\"https://colab.research.google.com/assets/colab-badge.svg\" alt=\"Open In Colab\"/></a>"
      ]
    },
    {
      "cell_type": "markdown",
      "source": [
        "# **[Demo] Create a `dlt` pipeline in 4 steps** 🚀\n",
        "\n",
        "---\n",
        "\n",
        "**TL;DR: create and execute a pipeline that loads data from the [PokeAPI](https://pokeapi.co/) into a [DuckDB](https://duckdb.org/) database using the `dlt` library**"
      ],
      "metadata": {
        "id": "GYREioraz1m6"
      }
    },
    {
      "cell_type": "markdown",
      "source": [
        "## 1 **Install `dlt`**"
      ],
      "metadata": {
        "id": "U33sg53V4xlR"
      }
    },
    {
      "cell_type": "code",
      "source": [
        "%%capture\n",
        "!pip install \"dlt[duckdb]\" # Install dlt with all the necessary DuckDB dependencies"
      ],
      "metadata": {
        "id": "GSfjew3L5Efg"
      },
      "execution_count": null,
      "outputs": []
    },
    {
      "cell_type": "code",
      "source": [
        "!dlt --version"
      ],
      "metadata": {
        "colab": {
          "base_uri": "https://localhost:8080/"
        },
        "id": "t5FVypQXvr2t",
        "outputId": "73b15990-6ed0-4086-d775-cdf2ac21f12e"
      },
      "execution_count": null,
      "outputs": [
        {
          "output_type": "stream",
          "name": "stdout",
          "text": [
            "dlt 0.3.17\n"
          ]
        }
      ]
    },
    {
      "cell_type": "markdown",
      "source": [
        "## 2 **Import `dlt` and initialize the pipeline**"
      ],
      "metadata": {
        "id": "1wf1R0yQh7pv"
      }
    },
    {
      "cell_type": "code",
      "source": [
        "import dlt\n",
        "\n",
        "pipeline = dlt.pipeline(pipeline_name=\"pokemon_pipeline\", destination=\"duckdb\", dataset_name=\"pokemon_data\")"
      ],
      "metadata": {
        "id": "A3NRS0y38alk"
      },
      "execution_count": null,
      "outputs": []
    },
    {
      "cell_type": "markdown",
      "source": [
        "## 3 **Get data from the source**\n",
        "\n",
        "We load the list of pokemons data using url."
      ],
      "metadata": {
        "id": "JgbaVBwZaYuF"
      }
    },
    {
      "cell_type": "code",
      "source": [
        "from dlt.sources.helpers import requests\n",
        "\n",
        "POKEMON_URL = \"https://pokeapi.co/api/v2/pokemon/\"\n",
        "\n",
        "data = requests.get(POKEMON_URL).json()[\"results\"]"
      ],
      "metadata": {
        "id": "M5CWr_eZGfps"
      },
      "execution_count": null,
      "outputs": []
    },
    {
      "cell_type": "code",
      "source": [
        "data"
      ],
      "metadata": {
        "colab": {
          "base_uri": "https://localhost:8080/"
        },
        "id": "HVlNbFKHwiRt",
        "outputId": "6c13f9f9-af6a-48fd-d3c2-589abf546555"
      },
      "execution_count": null,
      "outputs": [
        {
          "output_type": "execute_result",
          "data": {
            "text/plain": [
              "[{'name': 'bulbasaur', 'url': 'https://pokeapi.co/api/v2/pokemon/1/'},\n",
              " {'name': 'ivysaur', 'url': 'https://pokeapi.co/api/v2/pokemon/2/'},\n",
              " {'name': 'venusaur', 'url': 'https://pokeapi.co/api/v2/pokemon/3/'},\n",
              " {'name': 'charmander', 'url': 'https://pokeapi.co/api/v2/pokemon/4/'},\n",
              " {'name': 'charmeleon', 'url': 'https://pokeapi.co/api/v2/pokemon/5/'},\n",
              " {'name': 'charizard', 'url': 'https://pokeapi.co/api/v2/pokemon/6/'},\n",
              " {'name': 'squirtle', 'url': 'https://pokeapi.co/api/v2/pokemon/7/'},\n",
              " {'name': 'wartortle', 'url': 'https://pokeapi.co/api/v2/pokemon/8/'},\n",
              " {'name': 'blastoise', 'url': 'https://pokeapi.co/api/v2/pokemon/9/'},\n",
              " {'name': 'caterpie', 'url': 'https://pokeapi.co/api/v2/pokemon/10/'},\n",
              " {'name': 'metapod', 'url': 'https://pokeapi.co/api/v2/pokemon/11/'},\n",
              " {'name': 'butterfree', 'url': 'https://pokeapi.co/api/v2/pokemon/12/'},\n",
              " {'name': 'weedle', 'url': 'https://pokeapi.co/api/v2/pokemon/13/'},\n",
              " {'name': 'kakuna', 'url': 'https://pokeapi.co/api/v2/pokemon/14/'},\n",
              " {'name': 'beedrill', 'url': 'https://pokeapi.co/api/v2/pokemon/15/'},\n",
              " {'name': 'pidgey', 'url': 'https://pokeapi.co/api/v2/pokemon/16/'},\n",
              " {'name': 'pidgeotto', 'url': 'https://pokeapi.co/api/v2/pokemon/17/'},\n",
              " {'name': 'pidgeot', 'url': 'https://pokeapi.co/api/v2/pokemon/18/'},\n",
              " {'name': 'rattata', 'url': 'https://pokeapi.co/api/v2/pokemon/19/'},\n",
              " {'name': 'raticate', 'url': 'https://pokeapi.co/api/v2/pokemon/20/'}]"
            ]
          },
          "metadata": {},
          "execution_count": 5
        }
      ]
    },
    {
      "cell_type": "markdown",
      "source": [
        "## 4 **Run the pipeline**"
      ],
      "metadata": {
        "id": "D-3RP79kugz3"
      }
    },
    {
      "cell_type": "code",
      "source": [
        "%%capture\n",
        "# Normalize and load the data onto the locally created duckdb database 'pokemon_pipeline.duckdb'\n",
        "pipeline.run(data, table_name='pokemon')"
      ],
      "metadata": {
        "id": "CoVzXSF5sInX"
      },
      "execution_count": null,
      "outputs": []
    },
    {
      "cell_type": "markdown",
      "source": [
        "## 🎉 **Finish!** 🎉"
      ],
      "metadata": {
        "id": "4QBtnFC_3o6F"
      }
    },
    {
      "cell_type": "markdown",
      "source": [
        "## **Bonus: Query the loaded data** 🦆\n",
        "\n",
        "To access the loaded data, connect to the DuckDB database using the Python DuckDB connector"
      ],
      "metadata": {
        "id": "DT2DTGZiyJ8g"
      }
    },
    {
      "cell_type": "code",
      "source": [
        "import duckdb\n",
        "from google.colab import data_table\n",
        "data_table.enable_dataframe_formatter()\n",
        "\n",
        "# a database 'chess_pipeline.duckdb' was created in working directory so just connect to it\n",
        "conn = duckdb.connect(f\"{pipeline.pipeline_name}.duckdb\")\n",
        "\n",
        "# this lets us query data without adding schema prefix to table names\n",
        "conn.sql(f\"SET search_path = '{pipeline.dataset_name}'\")\n",
        "\n",
        "# list all tables\n",
        "display(conn.sql(\"DESCRIBE\"))\n",
        "\n",
        "stats_table = conn.sql(\"SELECT * FROM pokemon\").df()\n",
        "display(stats_table)"
      ],
      "metadata": {
        "colab": {
          "base_uri": "https://localhost:8080/",
          "height": 704
        },
        "id": "ki1Fjk6_sTd5",
        "outputId": "ee625a25-0d70-4620-93dc-f7cef5bc9074"
      },
      "execution_count": null,
      "outputs": [
        {
          "output_type": "display_data",
          "data": {
            "text/plain": [
              "┌──────────────────┬──────────────┬─────────────────────┬──────────────────────┬───────────────────────────┬───────────┐\n",
              "│     database     │    schema    │        name         │     column_names     │       column_types        │ temporary │\n",
              "│     varchar      │   varchar    │       varchar       │      varchar[]       │         varchar[]         │  boolean  │\n",
              "├──────────────────┼──────────────┼─────────────────────┼──────────────────────┼───────────────────────────┼───────────┤\n",
              "│ pokemon_pipeline │ pokemon_data │ _dlt_loads          │ [load_id, schema_n…  │ [VARCHAR, VARCHAR, BIGI…  │ false     │\n",
              "│ pokemon_pipeline │ pokemon_data │ _dlt_pipeline_state │ [version, engine_v…  │ [BIGINT, BIGINT, VARCHA…  │ false     │\n",
              "│ pokemon_pipeline │ pokemon_data │ _dlt_version        │ [version, engine_v…  │ [BIGINT, BIGINT, TIMEST…  │ false     │\n",
              "│ pokemon_pipeline │ pokemon_data │ pokemon             │ [name, url, _dlt_l…  │ [VARCHAR, VARCHAR, VARC…  │ false     │\n",
              "└──────────────────┴──────────────┴─────────────────────┴──────────────────────┴───────────────────────────┴───────────┘"
            ]
          },
          "metadata": {}
        },
        {
          "output_type": "display_data",
          "data": {
            "text/plain": [
              "          name                                    url       _dlt_load_id  \\\n",
              "0    bulbasaur   https://pokeapi.co/api/v2/pokemon/1/  1703091665.609718   \n",
              "1      ivysaur   https://pokeapi.co/api/v2/pokemon/2/  1703091665.609718   \n",
              "2     venusaur   https://pokeapi.co/api/v2/pokemon/3/  1703091665.609718   \n",
              "3   charmander   https://pokeapi.co/api/v2/pokemon/4/  1703091665.609718   \n",
              "4   charmeleon   https://pokeapi.co/api/v2/pokemon/5/  1703091665.609718   \n",
              "5    charizard   https://pokeapi.co/api/v2/pokemon/6/  1703091665.609718   \n",
              "6     squirtle   https://pokeapi.co/api/v2/pokemon/7/  1703091665.609718   \n",
              "7    wartortle   https://pokeapi.co/api/v2/pokemon/8/  1703091665.609718   \n",
              "8    blastoise   https://pokeapi.co/api/v2/pokemon/9/  1703091665.609718   \n",
              "9     caterpie  https://pokeapi.co/api/v2/pokemon/10/  1703091665.609718   \n",
              "10     metapod  https://pokeapi.co/api/v2/pokemon/11/  1703091665.609718   \n",
              "11  butterfree  https://pokeapi.co/api/v2/pokemon/12/  1703091665.609718   \n",
              "12      weedle  https://pokeapi.co/api/v2/pokemon/13/  1703091665.609718   \n",
              "13      kakuna  https://pokeapi.co/api/v2/pokemon/14/  1703091665.609718   \n",
              "14    beedrill  https://pokeapi.co/api/v2/pokemon/15/  1703091665.609718   \n",
              "15      pidgey  https://pokeapi.co/api/v2/pokemon/16/  1703091665.609718   \n",
              "16   pidgeotto  https://pokeapi.co/api/v2/pokemon/17/  1703091665.609718   \n",
              "17     pidgeot  https://pokeapi.co/api/v2/pokemon/18/  1703091665.609718   \n",
              "18     rattata  https://pokeapi.co/api/v2/pokemon/19/  1703091665.609718   \n",
              "19    raticate  https://pokeapi.co/api/v2/pokemon/20/  1703091665.609718   \n",
              "\n",
              "           _dlt_id  \n",
              "0   sx8tk63G0YgtZA  \n",
              "1   k0C73mVj8JzRPA  \n",
              "2   Vz+wl0O6kpTgkQ  \n",
              "3   AC4+GUwq1yYHOQ  \n",
              "4   vR2Fy6Jc2aJ5Ew  \n",
              "5   0p7dPOEJQNXBkA  \n",
              "6   DPJDzTfmy5jggg  \n",
              "7   iJ6lZZpTIeHt3A  \n",
              "8   eer70amUNcdzmA  \n",
              "9   KNJDFDU4gSN5og  \n",
              "10  gNU1oPwxYL2cqA  \n",
              "11  WjGOcBsrGjAghw  \n",
              "12  N2MkEmTH9/u99Q  \n",
              "13  2MbyiyhCq5C5GA  \n",
              "14  0ncAUyh96rPAww  \n",
              "15  pXXGXpqbEctNfg  \n",
              "16  fLsTDZ9gu0PiTg  \n",
              "17  1NsDNMKH/W4caw  \n",
              "18  HOZn5zbPRfw+YQ  \n",
              "19  /d/wInnZcYwIjQ  "
            ],
            "text/html": [
              "\n",
              "  <div id=\"df-9a6ad2ca-b56a-4183-b169-4d3ef2bf85ef\" class=\"colab-df-container\">\n",
              "    <div>\n",
              "<style scoped>\n",
              "    .dataframe tbody tr th:only-of-type {\n",
              "        vertical-align: middle;\n",
              "    }\n",
              "\n",
              "    .dataframe tbody tr th {\n",
              "        vertical-align: top;\n",
              "    }\n",
              "\n",
              "    .dataframe thead th {\n",
              "        text-align: right;\n",
              "    }\n",
              "</style>\n",
              "<table border=\"1\" class=\"dataframe\">\n",
              "  <thead>\n",
              "    <tr style=\"text-align: right;\">\n",
              "      <th></th>\n",
              "      <th>name</th>\n",
              "      <th>url</th>\n",
              "      <th>_dlt_load_id</th>\n",
              "      <th>_dlt_id</th>\n",
              "    </tr>\n",
              "  </thead>\n",
              "  <tbody>\n",
              "    <tr>\n",
              "      <th>0</th>\n",
              "      <td>bulbasaur</td>\n",
              "      <td>https://pokeapi.co/api/v2/pokemon/1/</td>\n",
              "      <td>1703091665.609718</td>\n",
              "      <td>sx8tk63G0YgtZA</td>\n",
              "    </tr>\n",
              "    <tr>\n",
              "      <th>1</th>\n",
              "      <td>ivysaur</td>\n",
              "      <td>https://pokeapi.co/api/v2/pokemon/2/</td>\n",
              "      <td>1703091665.609718</td>\n",
              "      <td>k0C73mVj8JzRPA</td>\n",
              "    </tr>\n",
              "    <tr>\n",
              "      <th>2</th>\n",
              "      <td>venusaur</td>\n",
              "      <td>https://pokeapi.co/api/v2/pokemon/3/</td>\n",
              "      <td>1703091665.609718</td>\n",
              "      <td>Vz+wl0O6kpTgkQ</td>\n",
              "    </tr>\n",
              "    <tr>\n",
              "      <th>3</th>\n",
              "      <td>charmander</td>\n",
              "      <td>https://pokeapi.co/api/v2/pokemon/4/</td>\n",
              "      <td>1703091665.609718</td>\n",
              "      <td>AC4+GUwq1yYHOQ</td>\n",
              "    </tr>\n",
              "    <tr>\n",
              "      <th>4</th>\n",
              "      <td>charmeleon</td>\n",
              "      <td>https://pokeapi.co/api/v2/pokemon/5/</td>\n",
              "      <td>1703091665.609718</td>\n",
              "      <td>vR2Fy6Jc2aJ5Ew</td>\n",
              "    </tr>\n",
              "    <tr>\n",
              "      <th>5</th>\n",
              "      <td>charizard</td>\n",
              "      <td>https://pokeapi.co/api/v2/pokemon/6/</td>\n",
              "      <td>1703091665.609718</td>\n",
              "      <td>0p7dPOEJQNXBkA</td>\n",
              "    </tr>\n",
              "    <tr>\n",
              "      <th>6</th>\n",
              "      <td>squirtle</td>\n",
              "      <td>https://pokeapi.co/api/v2/pokemon/7/</td>\n",
              "      <td>1703091665.609718</td>\n",
              "      <td>DPJDzTfmy5jggg</td>\n",
              "    </tr>\n",
              "    <tr>\n",
              "      <th>7</th>\n",
              "      <td>wartortle</td>\n",
              "      <td>https://pokeapi.co/api/v2/pokemon/8/</td>\n",
              "      <td>1703091665.609718</td>\n",
              "      <td>iJ6lZZpTIeHt3A</td>\n",
              "    </tr>\n",
              "    <tr>\n",
              "      <th>8</th>\n",
              "      <td>blastoise</td>\n",
              "      <td>https://pokeapi.co/api/v2/pokemon/9/</td>\n",
              "      <td>1703091665.609718</td>\n",
              "      <td>eer70amUNcdzmA</td>\n",
              "    </tr>\n",
              "    <tr>\n",
              "      <th>9</th>\n",
              "      <td>caterpie</td>\n",
              "      <td>https://pokeapi.co/api/v2/pokemon/10/</td>\n",
              "      <td>1703091665.609718</td>\n",
              "      <td>KNJDFDU4gSN5og</td>\n",
              "    </tr>\n",
              "    <tr>\n",
              "      <th>10</th>\n",
              "      <td>metapod</td>\n",
              "      <td>https://pokeapi.co/api/v2/pokemon/11/</td>\n",
              "      <td>1703091665.609718</td>\n",
              "      <td>gNU1oPwxYL2cqA</td>\n",
              "    </tr>\n",
              "    <tr>\n",
              "      <th>11</th>\n",
              "      <td>butterfree</td>\n",
              "      <td>https://pokeapi.co/api/v2/pokemon/12/</td>\n",
              "      <td>1703091665.609718</td>\n",
              "      <td>WjGOcBsrGjAghw</td>\n",
              "    </tr>\n",
              "    <tr>\n",
              "      <th>12</th>\n",
              "      <td>weedle</td>\n",
              "      <td>https://pokeapi.co/api/v2/pokemon/13/</td>\n",
              "      <td>1703091665.609718</td>\n",
              "      <td>N2MkEmTH9/u99Q</td>\n",
              "    </tr>\n",
              "    <tr>\n",
              "      <th>13</th>\n",
              "      <td>kakuna</td>\n",
              "      <td>https://pokeapi.co/api/v2/pokemon/14/</td>\n",
              "      <td>1703091665.609718</td>\n",
              "      <td>2MbyiyhCq5C5GA</td>\n",
              "    </tr>\n",
              "    <tr>\n",
              "      <th>14</th>\n",
              "      <td>beedrill</td>\n",
              "      <td>https://pokeapi.co/api/v2/pokemon/15/</td>\n",
              "      <td>1703091665.609718</td>\n",
              "      <td>0ncAUyh96rPAww</td>\n",
              "    </tr>\n",
              "    <tr>\n",
              "      <th>15</th>\n",
              "      <td>pidgey</td>\n",
              "      <td>https://pokeapi.co/api/v2/pokemon/16/</td>\n",
              "      <td>1703091665.609718</td>\n",
              "      <td>pXXGXpqbEctNfg</td>\n",
              "    </tr>\n",
              "    <tr>\n",
              "      <th>16</th>\n",
              "      <td>pidgeotto</td>\n",
              "      <td>https://pokeapi.co/api/v2/pokemon/17/</td>\n",
              "      <td>1703091665.609718</td>\n",
              "      <td>fLsTDZ9gu0PiTg</td>\n",
              "    </tr>\n",
              "    <tr>\n",
              "      <th>17</th>\n",
              "      <td>pidgeot</td>\n",
              "      <td>https://pokeapi.co/api/v2/pokemon/18/</td>\n",
              "      <td>1703091665.609718</td>\n",
              "      <td>1NsDNMKH/W4caw</td>\n",
              "    </tr>\n",
              "    <tr>\n",
              "      <th>18</th>\n",
              "      <td>rattata</td>\n",
              "      <td>https://pokeapi.co/api/v2/pokemon/19/</td>\n",
              "      <td>1703091665.609718</td>\n",
              "      <td>HOZn5zbPRfw+YQ</td>\n",
              "    </tr>\n",
              "    <tr>\n",
              "      <th>19</th>\n",
              "      <td>raticate</td>\n",
              "      <td>https://pokeapi.co/api/v2/pokemon/20/</td>\n",
              "      <td>1703091665.609718</td>\n",
              "      <td>/d/wInnZcYwIjQ</td>\n",
              "    </tr>\n",
              "  </tbody>\n",
              "</table>\n",
              "</div>\n",
              "    <div class=\"colab-df-buttons\">\n",
              "\n",
              "  <div class=\"colab-df-container\">\n",
              "    <button class=\"colab-df-convert\" onclick=\"convertToInteractive('df-9a6ad2ca-b56a-4183-b169-4d3ef2bf85ef')\"\n",
              "            title=\"Convert this dataframe to an interactive table.\"\n",
              "            style=\"display:none;\">\n",
              "\n",
              "  <svg xmlns=\"http://www.w3.org/2000/svg\" height=\"24px\" viewBox=\"0 -960 960 960\">\n",
              "    <path d=\"M120-120v-720h720v720H120Zm60-500h600v-160H180v160Zm220 220h160v-160H400v160Zm0 220h160v-160H400v160ZM180-400h160v-160H180v160Zm440 0h160v-160H620v160ZM180-180h160v-160H180v160Zm440 0h160v-160H620v160Z\"/>\n",
              "  </svg>\n",
              "    </button>\n",
              "\n",
              "  <style>\n",
              "    .colab-df-container {\n",
              "      display:flex;\n",
              "      gap: 12px;\n",
              "    }\n",
              "\n",
              "    .colab-df-convert {\n",
              "      background-color: #E8F0FE;\n",
              "      border: none;\n",
              "      border-radius: 50%;\n",
              "      cursor: pointer;\n",
              "      display: none;\n",
              "      fill: #1967D2;\n",
              "      height: 32px;\n",
              "      padding: 0 0 0 0;\n",
              "      width: 32px;\n",
              "    }\n",
              "\n",
              "    .colab-df-convert:hover {\n",
              "      background-color: #E2EBFA;\n",
              "      box-shadow: 0px 1px 2px rgba(60, 64, 67, 0.3), 0px 1px 3px 1px rgba(60, 64, 67, 0.15);\n",
              "      fill: #174EA6;\n",
              "    }\n",
              "\n",
              "    .colab-df-buttons div {\n",
              "      margin-bottom: 4px;\n",
              "    }\n",
              "\n",
              "    [theme=dark] .colab-df-convert {\n",
              "      background-color: #3B4455;\n",
              "      fill: #D2E3FC;\n",
              "    }\n",
              "\n",
              "    [theme=dark] .colab-df-convert:hover {\n",
              "      background-color: #434B5C;\n",
              "      box-shadow: 0px 1px 3px 1px rgba(0, 0, 0, 0.15);\n",
              "      filter: drop-shadow(0px 1px 2px rgba(0, 0, 0, 0.3));\n",
              "      fill: #FFFFFF;\n",
              "    }\n",
              "  </style>\n",
              "\n",
              "    <script>\n",
              "      const buttonEl =\n",
              "        document.querySelector('#df-9a6ad2ca-b56a-4183-b169-4d3ef2bf85ef button.colab-df-convert');\n",
              "      buttonEl.style.display =\n",
              "        google.colab.kernel.accessAllowed ? 'block' : 'none';\n",
              "\n",
              "      async function convertToInteractive(key) {\n",
              "        const element = document.querySelector('#df-9a6ad2ca-b56a-4183-b169-4d3ef2bf85ef');\n",
              "        const dataTable =\n",
              "          await google.colab.kernel.invokeFunction('convertToInteractive',\n",
              "                                                    [key], {});\n",
              "        if (!dataTable) return;\n",
              "\n",
              "        const docLinkHtml = 'Like what you see? Visit the ' +\n",
              "          '<a target=\"_blank\" href=https://colab.research.google.com/notebooks/data_table.ipynb>data table notebook</a>'\n",
              "          + ' to learn more about interactive tables.';\n",
              "        element.innerHTML = '';\n",
              "        dataTable['output_type'] = 'display_data';\n",
              "        await google.colab.output.renderOutput(dataTable, element);\n",
              "        const docLink = document.createElement('div');\n",
              "        docLink.innerHTML = docLinkHtml;\n",
              "        element.appendChild(docLink);\n",
              "      }\n",
              "    </script>\n",
              "  </div>\n",
              "\n",
              "\n",
              "<div id=\"df-c6a2b24e-3c75-41e1-9c72-f56fbc590d4a\">\n",
              "  <button class=\"colab-df-quickchart\" onclick=\"quickchart('df-c6a2b24e-3c75-41e1-9c72-f56fbc590d4a')\"\n",
              "            title=\"Suggest charts\"\n",
              "            style=\"display:none;\">\n",
              "\n",
              "<svg xmlns=\"http://www.w3.org/2000/svg\" height=\"24px\"viewBox=\"0 0 24 24\"\n",
              "     width=\"24px\">\n",
              "    <g>\n",
              "        <path d=\"M19 3H5c-1.1 0-2 .9-2 2v14c0 1.1.9 2 2 2h14c1.1 0 2-.9 2-2V5c0-1.1-.9-2-2-2zM9 17H7v-7h2v7zm4 0h-2V7h2v10zm4 0h-2v-4h2v4z\"/>\n",
              "    </g>\n",
              "</svg>\n",
              "  </button>\n",
              "\n",
              "<style>\n",
              "  .colab-df-quickchart {\n",
              "      --bg-color: #E8F0FE;\n",
              "      --fill-color: #1967D2;\n",
              "      --hover-bg-color: #E2EBFA;\n",
              "      --hover-fill-color: #174EA6;\n",
              "      --disabled-fill-color: #AAA;\n",
              "      --disabled-bg-color: #DDD;\n",
              "  }\n",
              "\n",
              "  [theme=dark] .colab-df-quickchart {\n",
              "      --bg-color: #3B4455;\n",
              "      --fill-color: #D2E3FC;\n",
              "      --hover-bg-color: #434B5C;\n",
              "      --hover-fill-color: #FFFFFF;\n",
              "      --disabled-bg-color: #3B4455;\n",
              "      --disabled-fill-color: #666;\n",
              "  }\n",
              "\n",
              "  .colab-df-quickchart {\n",
              "    background-color: var(--bg-color);\n",
              "    border: none;\n",
              "    border-radius: 50%;\n",
              "    cursor: pointer;\n",
              "    display: none;\n",
              "    fill: var(--fill-color);\n",
              "    height: 32px;\n",
              "    padding: 0;\n",
              "    width: 32px;\n",
              "  }\n",
              "\n",
              "  .colab-df-quickchart:hover {\n",
              "    background-color: var(--hover-bg-color);\n",
              "    box-shadow: 0 1px 2px rgba(60, 64, 67, 0.3), 0 1px 3px 1px rgba(60, 64, 67, 0.15);\n",
              "    fill: var(--button-hover-fill-color);\n",
              "  }\n",
              "\n",
              "  .colab-df-quickchart-complete:disabled,\n",
              "  .colab-df-quickchart-complete:disabled:hover {\n",
              "    background-color: var(--disabled-bg-color);\n",
              "    fill: var(--disabled-fill-color);\n",
              "    box-shadow: none;\n",
              "  }\n",
              "\n",
              "  .colab-df-spinner {\n",
              "    border: 2px solid var(--fill-color);\n",
              "    border-color: transparent;\n",
              "    border-bottom-color: var(--fill-color);\n",
              "    animation:\n",
              "      spin 1s steps(1) infinite;\n",
              "  }\n",
              "\n",
              "  @keyframes spin {\n",
              "    0% {\n",
              "      border-color: transparent;\n",
              "      border-bottom-color: var(--fill-color);\n",
              "      border-left-color: var(--fill-color);\n",
              "    }\n",
              "    20% {\n",
              "      border-color: transparent;\n",
              "      border-left-color: var(--fill-color);\n",
              "      border-top-color: var(--fill-color);\n",
              "    }\n",
              "    30% {\n",
              "      border-color: transparent;\n",
              "      border-left-color: var(--fill-color);\n",
              "      border-top-color: var(--fill-color);\n",
              "      border-right-color: var(--fill-color);\n",
              "    }\n",
              "    40% {\n",
              "      border-color: transparent;\n",
              "      border-right-color: var(--fill-color);\n",
              "      border-top-color: var(--fill-color);\n",
              "    }\n",
              "    60% {\n",
              "      border-color: transparent;\n",
              "      border-right-color: var(--fill-color);\n",
              "    }\n",
              "    80% {\n",
              "      border-color: transparent;\n",
              "      border-right-color: var(--fill-color);\n",
              "      border-bottom-color: var(--fill-color);\n",
              "    }\n",
              "    90% {\n",
              "      border-color: transparent;\n",
              "      border-bottom-color: var(--fill-color);\n",
              "    }\n",
              "  }\n",
              "</style>\n",
              "\n",
              "  <script>\n",
              "    async function quickchart(key) {\n",
              "      const quickchartButtonEl =\n",
              "        document.querySelector('#' + key + ' button');\n",
              "      quickchartButtonEl.disabled = true;  // To prevent multiple clicks.\n",
              "      quickchartButtonEl.classList.add('colab-df-spinner');\n",
              "      try {\n",
              "        const charts = await google.colab.kernel.invokeFunction(\n",
              "            'suggestCharts', [key], {});\n",
              "      } catch (error) {\n",
              "        console.error('Error during call to suggestCharts:', error);\n",
              "      }\n",
              "      quickchartButtonEl.classList.remove('colab-df-spinner');\n",
              "      quickchartButtonEl.classList.add('colab-df-quickchart-complete');\n",
              "    }\n",
              "    (() => {\n",
              "      let quickchartButtonEl =\n",
              "        document.querySelector('#df-c6a2b24e-3c75-41e1-9c72-f56fbc590d4a button');\n",
              "      quickchartButtonEl.style.display =\n",
              "        google.colab.kernel.accessAllowed ? 'block' : 'none';\n",
              "    })();\n",
              "  </script>\n",
              "</div>\n",
              "    </div>\n",
              "  </div>\n"
            ],
            "application/vnd.google.colaboratory.module+javascript": "\n      import \"https://ssl.gstatic.com/colaboratory/data_table/881c4a0d49046431/data_table.js\";\n\n      const table = window.createDataTable({\n        data: [[{\n            'v': 0,\n            'f': \"0\",\n        },\n\"bulbasaur\",\n\"https://pokeapi.co/api/v2/pokemon/1/\",\n\"1703091665.609718\",\n\"sx8tk63G0YgtZA\"],\n [{\n            'v': 1,\n            'f': \"1\",\n        },\n\"ivysaur\",\n\"https://pokeapi.co/api/v2/pokemon/2/\",\n\"1703091665.609718\",\n\"k0C73mVj8JzRPA\"],\n [{\n            'v': 2,\n            'f': \"2\",\n        },\n\"venusaur\",\n\"https://pokeapi.co/api/v2/pokemon/3/\",\n\"1703091665.609718\",\n\"Vz+wl0O6kpTgkQ\"],\n [{\n            'v': 3,\n            'f': \"3\",\n        },\n\"charmander\",\n\"https://pokeapi.co/api/v2/pokemon/4/\",\n\"1703091665.609718\",\n\"AC4+GUwq1yYHOQ\"],\n [{\n            'v': 4,\n            'f': \"4\",\n        },\n\"charmeleon\",\n\"https://pokeapi.co/api/v2/pokemon/5/\",\n\"1703091665.609718\",\n\"vR2Fy6Jc2aJ5Ew\"],\n [{\n            'v': 5,\n            'f': \"5\",\n        },\n\"charizard\",\n\"https://pokeapi.co/api/v2/pokemon/6/\",\n\"1703091665.609718\",\n\"0p7dPOEJQNXBkA\"],\n [{\n            'v': 6,\n            'f': \"6\",\n        },\n\"squirtle\",\n\"https://pokeapi.co/api/v2/pokemon/7/\",\n\"1703091665.609718\",\n\"DPJDzTfmy5jggg\"],\n [{\n            'v': 7,\n            'f': \"7\",\n        },\n\"wartortle\",\n\"https://pokeapi.co/api/v2/pokemon/8/\",\n\"1703091665.609718\",\n\"iJ6lZZpTIeHt3A\"],\n [{\n            'v': 8,\n            'f': \"8\",\n        },\n\"blastoise\",\n\"https://pokeapi.co/api/v2/pokemon/9/\",\n\"1703091665.609718\",\n\"eer70amUNcdzmA\"],\n [{\n            'v': 9,\n            'f': \"9\",\n        },\n\"caterpie\",\n\"https://pokeapi.co/api/v2/pokemon/10/\",\n\"1703091665.609718\",\n\"KNJDFDU4gSN5og\"],\n [{\n            'v': 10,\n            'f': \"10\",\n        },\n\"metapod\",\n\"https://pokeapi.co/api/v2/pokemon/11/\",\n\"1703091665.609718\",\n\"gNU1oPwxYL2cqA\"],\n [{\n            'v': 11,\n            'f': \"11\",\n        },\n\"butterfree\",\n\"https://pokeapi.co/api/v2/pokemon/12/\",\n\"1703091665.609718\",\n\"WjGOcBsrGjAghw\"],\n [{\n            'v': 12,\n            'f': \"12\",\n        },\n\"weedle\",\n\"https://pokeapi.co/api/v2/pokemon/13/\",\n\"1703091665.609718\",\n\"N2MkEmTH9/u99Q\"],\n [{\n            'v': 13,\n            'f': \"13\",\n        },\n\"kakuna\",\n\"https://pokeapi.co/api/v2/pokemon/14/\",\n\"1703091665.609718\",\n\"2MbyiyhCq5C5GA\"],\n [{\n            'v': 14,\n            'f': \"14\",\n        },\n\"beedrill\",\n\"https://pokeapi.co/api/v2/pokemon/15/\",\n\"1703091665.609718\",\n\"0ncAUyh96rPAww\"],\n [{\n            'v': 15,\n            'f': \"15\",\n        },\n\"pidgey\",\n\"https://pokeapi.co/api/v2/pokemon/16/\",\n\"1703091665.609718\",\n\"pXXGXpqbEctNfg\"],\n [{\n            'v': 16,\n            'f': \"16\",\n        },\n\"pidgeotto\",\n\"https://pokeapi.co/api/v2/pokemon/17/\",\n\"1703091665.609718\",\n\"fLsTDZ9gu0PiTg\"],\n [{\n            'v': 17,\n            'f': \"17\",\n        },\n\"pidgeot\",\n\"https://pokeapi.co/api/v2/pokemon/18/\",\n\"1703091665.609718\",\n\"1NsDNMKH/W4caw\"],\n [{\n            'v': 18,\n            'f': \"18\",\n        },\n\"rattata\",\n\"https://pokeapi.co/api/v2/pokemon/19/\",\n\"1703091665.609718\",\n\"HOZn5zbPRfw+YQ\"],\n [{\n            'v': 19,\n            'f': \"19\",\n        },\n\"raticate\",\n\"https://pokeapi.co/api/v2/pokemon/20/\",\n\"1703091665.609718\",\n\"/d/wInnZcYwIjQ\"]],\n        columns: [[\"number\", \"index\"], [\"string\", \"name\"], [\"string\", \"url\"], [\"string\", \"_dlt_load_id\"], [\"string\", \"_dlt_id\"]],\n        columnOptions: [{\"width\": \"1px\", \"className\": \"index_column\"}],\n        rowsPerPage: 25,\n        helpUrl: \"https://colab.research.google.com/notebooks/data_table.ipynb\",\n        suppressOutputScrolling: true,\n        minimumWidth: undefined,\n      });\n\n      function appendQuickchartButton(parentElement) {\n        let quickchartButtonContainerElement = document.createElement('div');\n        quickchartButtonContainerElement.innerHTML = `\n<div id=\"df-e89baac8-b726-40fb-96ec-0cf26df2d9fd\">\n  <button class=\"colab-df-quickchart\" onclick=\"quickchart('df-e89baac8-b726-40fb-96ec-0cf26df2d9fd')\"\n            title=\"Suggest charts\"\n            style=\"display:none;\">\n    \n<svg xmlns=\"http://www.w3.org/2000/svg\" height=\"24px\"viewBox=\"0 0 24 24\"\n     width=\"24px\">\n    <g>\n        <path d=\"M19 3H5c-1.1 0-2 .9-2 2v14c0 1.1.9 2 2 2h14c1.1 0 2-.9 2-2V5c0-1.1-.9-2-2-2zM9 17H7v-7h2v7zm4 0h-2V7h2v10zm4 0h-2v-4h2v4z\"/>\n    </g>\n</svg>\n  </button>\n  \n<style>\n  .colab-df-quickchart {\n      --bg-color: #E8F0FE;\n      --fill-color: #1967D2;\n      --hover-bg-color: #E2EBFA;\n      --hover-fill-color: #174EA6;\n      --disabled-fill-color: #AAA;\n      --disabled-bg-color: #DDD;\n  }\n\n  [theme=dark] .colab-df-quickchart {\n      --bg-color: #3B4455;\n      --fill-color: #D2E3FC;\n      --hover-bg-color: #434B5C;\n      --hover-fill-color: #FFFFFF;\n      --disabled-bg-color: #3B4455;\n      --disabled-fill-color: #666;\n  }\n\n  .colab-df-quickchart {\n    background-color: var(--bg-color);\n    border: none;\n    border-radius: 50%;\n    cursor: pointer;\n    display: none;\n    fill: var(--fill-color);\n    height: 32px;\n    padding: 0;\n    width: 32px;\n  }\n\n  .colab-df-quickchart:hover {\n    background-color: var(--hover-bg-color);\n    box-shadow: 0 1px 2px rgba(60, 64, 67, 0.3), 0 1px 3px 1px rgba(60, 64, 67, 0.15);\n    fill: var(--button-hover-fill-color);\n  }\n\n  .colab-df-quickchart-complete:disabled,\n  .colab-df-quickchart-complete:disabled:hover {\n    background-color: var(--disabled-bg-color);\n    fill: var(--disabled-fill-color);\n    box-shadow: none;\n  }\n\n  .colab-df-spinner {\n    border: 2px solid var(--fill-color);\n    border-color: transparent;\n    border-bottom-color: var(--fill-color);\n    animation:\n      spin 1s steps(1) infinite;\n  }\n\n  @keyframes spin {\n    0% {\n      border-color: transparent;\n      border-bottom-color: var(--fill-color);\n      border-left-color: var(--fill-color);\n    }\n    20% {\n      border-color: transparent;\n      border-left-color: var(--fill-color);\n      border-top-color: var(--fill-color);\n    }\n    30% {\n      border-color: transparent;\n      border-left-color: var(--fill-color);\n      border-top-color: var(--fill-color);\n      border-right-color: var(--fill-color);\n    }\n    40% {\n      border-color: transparent;\n      border-right-color: var(--fill-color);\n      border-top-color: var(--fill-color);\n    }\n    60% {\n      border-color: transparent;\n      border-right-color: var(--fill-color);\n    }\n    80% {\n      border-color: transparent;\n      border-right-color: var(--fill-color);\n      border-bottom-color: var(--fill-color);\n    }\n    90% {\n      border-color: transparent;\n      border-bottom-color: var(--fill-color);\n    }\n  }\n</style>\n\n  <script>\n    async function quickchart(key) {\n      const quickchartButtonEl =\n        document.querySelector('#' + key + ' button');\n      quickchartButtonEl.disabled = true;  // To prevent multiple clicks.\n      quickchartButtonEl.classList.add('colab-df-spinner');\n      try {\n        const charts = await google.colab.kernel.invokeFunction(\n            'suggestCharts', [key], {});\n      } catch (error) {\n        console.error('Error during call to suggestCharts:', error);\n      }\n      quickchartButtonEl.classList.remove('colab-df-spinner');\n      quickchartButtonEl.classList.add('colab-df-quickchart-complete');\n    }\n    (() => {\n      let quickchartButtonEl =\n        document.querySelector('#df-e89baac8-b726-40fb-96ec-0cf26df2d9fd button');\n      quickchartButtonEl.style.display =\n        google.colab.kernel.accessAllowed ? 'block' : 'none';\n    })();\n  </script>\n</div>`;\n        parentElement.appendChild(quickchartButtonContainerElement);\n      }\n\n      appendQuickchartButton(table);\n    "
          },
          "metadata": {}
        }
      ]
    },
    {
      "cell_type": "markdown",
      "source": [
        "# **Next Steps** 👀"
      ],
      "metadata": {
        "id": "ol13bwL3yENc"
      }
    },
    {
      "cell_type": "markdown",
      "source": [
        "## **[Give `dlt` a ⭐ on GitHub](https://github.com/dlt-hub/dlt)**\n",
        "## **[Join the `dlt` community on Slack](https://join.slack.com/t/dlthub-community/shared_invite/zt-1slox199h-HAE7EQoXmstkP_bTqal65g)**\n",
        "## **[Read the `dlt` docs](https://dlthub.com/docs/)**"
      ],
      "metadata": {
        "id": "nNIRk_NM1Mf6"
      }
    }
  ]
}